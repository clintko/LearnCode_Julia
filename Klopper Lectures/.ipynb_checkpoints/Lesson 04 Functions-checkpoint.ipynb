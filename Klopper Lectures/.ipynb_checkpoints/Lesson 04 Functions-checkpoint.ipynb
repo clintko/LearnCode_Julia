{
 "cells": [
  {
   "cell_type": "markdown",
   "metadata": {},
   "source": [
    "# [Lesson 04_01 Introduction to Julia functions](https://www.youtube.com/watch?v=mSkQV3JOZv8&list=PLsu0TcgLDUiIznEhN165XmykqyLgzwY0Y&index=27)"
   ]
  },
  {
   "cell_type": "markdown",
   "metadata": {},
   "source": [
    "One of the most useful aspects of Julia is the ability to create functions and more so, in the multiple dispatch format that functions take.  In this introduction we will take a look at what's coming up in this lesson.\n"
   ]
  },
  {
   "cell_type": "markdown",
   "metadata": {},
   "source": [
    "## Introduction\n",
    "- Single expression function\n",
    "- Multiple expression functions\n",
    "- optional arguments\n",
    "- functions with a variable number of arguments\n",
    "- passing arrays as function arguments\n",
    "- Type parameters\n",
    "- Stabby functions and do blocks\n",
    "- Using functions as arguments\n",
    "- Nested functions\n",
    "- Multiple dispatch\n",
    "- A few inbuilt functions (just for fun)\n",
    "- List comprehension (just for some more fun)"
   ]
  },
  {
   "cell_type": "markdown",
   "metadata": {},
   "source": [
    "# [Lesson 04_02 Single expression functions](https://www.youtube.com/watch?v=yOvqFO572-0&index=28&list=PLsu0TcgLDUiIznEhN165XmykqyLgzwY0Y)"
   ]
  },
  {
   "cell_type": "code",
   "execution_count": 1,
   "metadata": {},
   "outputs": [
    {
     "data": {
      "text/plain": [
       "f (generic function with 1 method)"
      ]
     },
     "execution_count": 1,
     "metadata": {},
     "output_type": "execute_result"
    }
   ],
   "source": [
    "# creating our first single expression function\n",
    "f(x, y) = x^2 -3y"
   ]
  },
  {
   "cell_type": "markdown",
   "metadata": {},
   "source": [
    "The function has a name f and it takes two argumetns, x and y"
   ]
  },
  {
   "cell_type": "code",
   "execution_count": 2,
   "metadata": {},
   "outputs": [
    {
     "data": {
      "text/plain": [
       "1"
      ]
     },
     "execution_count": 2,
     "metadata": {},
     "output_type": "execute_result"
    }
   ],
   "source": [
    "f(2, 1)"
   ]
  },
  {
   "cell_type": "code",
   "execution_count": 3,
   "metadata": {},
   "outputs": [
    {
     "data": {
      "text/plain": [
       "g (generic function with 1 method)"
      ]
     },
     "execution_count": 3,
     "metadata": {},
     "output_type": "execute_result"
    }
   ],
   "source": [
    "g(x) = x^2"
   ]
  },
  {
   "cell_type": "code",
   "execution_count": 4,
   "metadata": {},
   "outputs": [
    {
     "data": {
      "text/plain": [
       "9"
      ]
     },
     "execution_count": 4,
     "metadata": {},
     "output_type": "execute_result"
    }
   ],
   "source": [
    "g(3)"
   ]
  },
  {
   "cell_type": "markdown",
   "metadata": {},
   "source": [
    "# [Lesson 04_03 Multiple expression functions](https://www.youtube.com/watch?v=zirbpBaXPy0&index=29&list=PLsu0TcgLDUiIznEhN165XmykqyLgzwY0Y)"
   ]
  },
  {
   "cell_type": "code",
   "execution_count": 11,
   "metadata": {},
   "outputs": [
    {
     "data": {
      "text/plain": [
       "mltpl (generic function with 1 method)"
      ]
     },
     "execution_count": 11,
     "metadata": {},
     "output_type": "execute_result"
    }
   ],
   "source": [
    "function mltpl(x, y)\n",
    "    println(\"The first value is $x and the second value is $y.\")\n",
    "    print(\"$x x $y is:\")\n",
    "    return x*y\n",
    "end"
   ]
  },
  {
   "cell_type": "code",
   "execution_count": 8,
   "metadata": {},
   "outputs": [
    {
     "name": "stdout",
     "output_type": "stream",
     "text": [
      "The first value is 3 and the second value is 4.\n",
      "3 x 4 is:"
     ]
    },
    {
     "data": {
      "text/plain": [
       "12"
      ]
     },
     "execution_count": 8,
     "metadata": {},
     "output_type": "execute_result"
    }
   ],
   "source": [
    "mltpl(3, 4)"
   ]
  },
  {
   "cell_type": "markdown",
   "metadata": {},
   "source": [
    "try if the format matters"
   ]
  },
  {
   "cell_type": "code",
   "execution_count": 10,
   "metadata": {},
   "outputs": [
    {
     "data": {
      "text/plain": [
       "mltpl (generic function with 1 method)"
      ]
     },
     "execution_count": 10,
     "metadata": {},
     "output_type": "execute_result"
    }
   ],
   "source": [
    "function mltpl(x, y)\n",
    "  println(\"The first value is $x and the second value is $y.\")\n",
    "      print(\"$x x $y is:\"); return x*y\n",
    "end"
   ]
  },
  {
   "cell_type": "markdown",
   "metadata": {},
   "source": [
    "## omit the return keyword"
   ]
  },
  {
   "cell_type": "code",
   "execution_count": 12,
   "metadata": {},
   "outputs": [
    {
     "data": {
      "text/plain": [
       "mtpl2 (generic function with 1 method)"
      ]
     },
     "execution_count": 12,
     "metadata": {},
     "output_type": "execute_result"
    }
   ],
   "source": [
    "function mtpl2(x, y)\n",
    "    print(\"More blah, blah, ...\")\n",
    "    x + y\n",
    "    x * y\n",
    "end"
   ]
  },
  {
   "cell_type": "code",
   "execution_count": 13,
   "metadata": {},
   "outputs": [
    {
     "name": "stdout",
     "output_type": "stream",
     "text": [
      "More blah, blah, ..."
     ]
    },
    {
     "data": {
      "text/plain": [
       "12"
      ]
     },
     "execution_count": 13,
     "metadata": {},
     "output_type": "execute_result"
    }
   ],
   "source": [
    "mtpl2(3, 4)"
   ]
  },
  {
   "cell_type": "markdown",
   "metadata": {},
   "source": [
    "The print() function was still evaluated, but as far as the expression go, only the last one was performed, i.e the x + y was skipped. "
   ]
  },
  {
   "cell_type": "markdown",
   "metadata": {},
   "source": [
    "## Return multiple values using a tuple"
   ]
  },
  {
   "cell_type": "code",
   "execution_count": 14,
   "metadata": {},
   "outputs": [
    {
     "data": {
      "text/plain": [
       "math_func (generic function with 1 method)"
      ]
     },
     "execution_count": 14,
     "metadata": {},
     "output_type": "execute_result"
    }
   ],
   "source": [
    "function math_func(a, b)\n",
    "    print(\"This function will return addition, substraction and multiplication of the value $a and $b.\")\n",
    "    a + b, a - b, a * b\n",
    "end"
   ]
  },
  {
   "cell_type": "code",
   "execution_count": 15,
   "metadata": {},
   "outputs": [
    {
     "name": "stdout",
     "output_type": "stream",
     "text": [
      "This function will return addition, substraction and multiplication of the value 3 and 4."
     ]
    },
    {
     "data": {
      "text/plain": [
       "(7, -1, 12)"
      ]
     },
     "execution_count": 15,
     "metadata": {},
     "output_type": "execute_result"
    }
   ],
   "source": [
    "math_func(3, 4)"
   ]
  },
  {
   "cell_type": "markdown",
   "metadata": {},
   "source": [
    "This can be very useful in Julia program. This is how we might use it:"
   ]
  },
  {
   "cell_type": "code",
   "execution_count": 16,
   "metadata": {},
   "outputs": [
    {
     "name": "stdout",
     "output_type": "stream",
     "text": [
      "This function will return addition, substraction and multiplication of the value 3 and 4."
     ]
    },
    {
     "data": {
      "text/plain": [
       "(7, -1, 12)"
      ]
     },
     "execution_count": 16,
     "metadata": {},
     "output_type": "execute_result"
    }
   ],
   "source": [
    "ans1, ans2, ans3 = math_func(3, 4)"
   ]
  },
  {
   "cell_type": "code",
   "execution_count": 17,
   "metadata": {},
   "outputs": [
    {
     "data": {
      "text/plain": [
       "7"
      ]
     },
     "execution_count": 17,
     "metadata": {},
     "output_type": "execute_result"
    }
   ],
   "source": [
    "ans1"
   ]
  },
  {
   "cell_type": "markdown",
   "metadata": {},
   "source": [
    "# [Lesson 04_04 Arguments with default values and keyword arguments](https://www.youtube.com/watch?v=u02muhfgTx4&list=PLsu0TcgLDUiIznEhN165XmykqyLgzwY0Y&index=30)"
   ]
  },
  {
   "cell_type": "markdown",
   "metadata": {},
   "source": [
    "We can set default values for arguments and even have keyword arguments.  The former means that values don't have tp be specified when calling the function and the latter allows us to chnage the order around when listing arguments when calling a function.  Just remember that keyword arguments have no be named when passed."
   ]
  },
  {
   "cell_type": "markdown",
   "metadata": {},
   "source": [
    "## Optional arguments (with default values)"
   ]
  },
  {
   "cell_type": "markdown",
   "metadata": {},
   "source": [
    "A default value can be passed to an argument when defining a function"
   ]
  },
  {
   "cell_type": "code",
   "execution_count": 18,
   "metadata": {},
   "outputs": [
    {
     "data": {
      "text/plain": [
       "func (generic function with 2 methods)"
      ]
     },
     "execution_count": 18,
     "metadata": {},
     "output_type": "execute_result"
    }
   ],
   "source": [
    "function func(a, b, c = 100)\n",
    "    print(\"We have the value $a, $b, and $c\")\n",
    "end"
   ]
  },
  {
   "cell_type": "code",
   "execution_count": 19,
   "metadata": {},
   "outputs": [
    {
     "name": "stdout",
     "output_type": "stream",
     "text": [
      "We have the value 1, 10, and 100"
     ]
    }
   ],
   "source": [
    "# Calling the function, but omitting the last argument\n",
    "func(1, 10)"
   ]
  },
  {
   "cell_type": "markdown",
   "metadata": {},
   "source": [
    "the last argument can be overwritten"
   ]
  },
  {
   "cell_type": "code",
   "execution_count": 20,
   "metadata": {},
   "outputs": [
    {
     "name": "stdout",
     "output_type": "stream",
     "text": [
      "We have the value 1, 2, and 3"
     ]
    }
   ],
   "source": [
    "func(1, 2, 3)"
   ]
  },
  {
   "cell_type": "markdown",
   "metadata": {},
   "source": [
    "try if the named argument can be placed in front of the position argument  \n",
    "=> **no**"
   ]
  },
  {
   "cell_type": "code",
   "execution_count": 21,
   "metadata": {},
   "outputs": [
    {
     "ename": "LoadError",
     "evalue": "\u001b[91mfunction func does not accept keyword arguments\u001b[39m",
     "output_type": "error",
     "traceback": [
      "\u001b[91mfunction func does not accept keyword arguments\u001b[39m",
      "",
      "Stacktrace:",
      " [1] \u001b[1mkwfunc\u001b[22m\u001b[22m\u001b[1m(\u001b[22m\u001b[22m::Any\u001b[1m)\u001b[22m\u001b[22m at \u001b[1m./boot.jl:237\u001b[22m\u001b[22m"
     ]
    }
   ],
   "source": [
    "func(c = 3, 1, 2)"
   ]
  },
  {
   "cell_type": "markdown",
   "metadata": {},
   "source": [
    "## Using keyword arguments to bypass the order problem"
   ]
  },
  {
   "cell_type": "markdown",
   "metadata": {},
   "source": [
    "we can create function with many, many argument. For arugment order, use semicolon \";\""
   ]
  },
  {
   "cell_type": "markdown",
   "metadata": {},
   "source": [
    "More information: In Julia, [there are several types of argument](https://docs.julialang.org/en/stable/manual/functions/):\n",
    "- Positional arguments (I am not 100% sure how it is called)\n",
    "- Optional Arguments\n",
    "- Keyword Arguments"
   ]
  },
  {
   "cell_type": "code",
   "execution_count": 22,
   "metadata": {},
   "outputs": [
    {
     "data": {
      "text/plain": [
       "func2 (generic function with 2 methods)"
      ]
     },
     "execution_count": 22,
     "metadata": {},
     "output_type": "execute_result"
    }
   ],
   "source": [
    "# A most reidiculously long print statement.\n",
    "function func2(a, b, c = 100 ; p = 100, q = \"red\")\n",
    "    println(\"The first ordered argument value is $a.\")\n",
    "    println(\"The second ordered argument value is $b.\")\n",
    "    println(\"The third  ordered argument is optional. Default to 100. The current value is $c.\")\n",
    "    println(\"The keyword argument p value: $p.\")\n",
    "    println(\"The keyword argument q value: $q.\")\n",
    "    return a * b\n",
    "end"
   ]
  },
  {
   "cell_type": "code",
   "execution_count": 23,
   "metadata": {},
   "outputs": [
    {
     "name": "stdout",
     "output_type": "stream",
     "text": [
      "The first ordered argument value is 3.\n",
      "The second ordered argument value is 4.\n",
      "The third  ordered argument is optional. Default to 100. The current value is 100.\n",
      "The keyword argument p value: 100.\n",
      "The keyword argument q value: red.\n"
     ]
    },
    {
     "data": {
      "text/plain": [
       "12"
      ]
     },
     "execution_count": 23,
     "metadata": {},
     "output_type": "execute_result"
    }
   ],
   "source": [
    "# calling just the first two ordered argument\n",
    "func2(3, 4)"
   ]
  },
  {
   "cell_type": "code",
   "execution_count": 24,
   "metadata": {},
   "outputs": [
    {
     "name": "stdout",
     "output_type": "stream",
     "text": [
      "The first ordered argument value is 3.\n",
      "The second ordered argument value is 4.\n",
      "The third  ordered argument is optional. Default to 100. The current value is 5.\n",
      "The keyword argument p value: 100.\n",
      "The keyword argument q value: red.\n"
     ]
    },
    {
     "data": {
      "text/plain": [
       "12"
      ]
     },
     "execution_count": 24,
     "metadata": {},
     "output_type": "execute_result"
    }
   ],
   "source": [
    "# calling something else for c\n",
    "func2(3, 4, 5)"
   ]
  },
  {
   "cell_type": "code",
   "execution_count": 25,
   "metadata": {},
   "outputs": [
    {
     "name": "stdout",
     "output_type": "stream",
     "text": [
      "The first ordered argument value is 3.\n",
      "The second ordered argument value is 4.\n",
      "The third  ordered argument is optional. Default to 100. The current value is 100.\n",
      "The keyword argument p value: π = 3.1415926535897....\n",
      "The keyword argument q value: red.\n"
     ]
    },
    {
     "data": {
      "text/plain": [
       "12"
      ]
     },
     "execution_count": 25,
     "metadata": {},
     "output_type": "execute_result"
    }
   ],
   "source": [
    "# Now lets have some fun with the keyword arguments\n",
    "func2(3, 4, p = pi)"
   ]
  },
  {
   "cell_type": "code",
   "execution_count": 26,
   "metadata": {},
   "outputs": [
    {
     "name": "stdout",
     "output_type": "stream",
     "text": [
      "The first ordered argument value is 3.\n",
      "The second ordered argument value is 4.\n",
      "The third  ordered argument is optional. Default to 100. The current value is 2.\n",
      "The keyword argument p value: 100.\n",
      "The keyword argument q value: Hello!.\n"
     ]
    },
    {
     "data": {
      "text/plain": [
       "12"
      ]
     },
     "execution_count": 26,
     "metadata": {},
     "output_type": "execute_result"
    }
   ],
   "source": [
    "# Now for q\n",
    "func2(3, 4, 2, q = \"Hello!\")"
   ]
  },
  {
   "cell_type": "code",
   "execution_count": 27,
   "metadata": {},
   "outputs": [
    {
     "name": "stdout",
     "output_type": "stream",
     "text": [
      "The first ordered argument value is 3.\n",
      "The second ordered argument value is 4.\n",
      "The third  ordered argument is optional. Default to 100. The current value is 2.\n",
      "The keyword argument p value: 10.\n",
      "The keyword argument q value: Hello!.\n"
     ]
    },
    {
     "data": {
      "text/plain": [
       "12"
      ]
     },
     "execution_count": 27,
     "metadata": {},
     "output_type": "execute_result"
    }
   ],
   "source": [
    "# the order of p and q does not matter\n",
    "func2(3, 4, 2, q = \"Hello!\", p = 10)"
   ]
  },
  {
   "cell_type": "code",
   "execution_count": 29,
   "metadata": {},
   "outputs": [
    {
     "name": "stdout",
     "output_type": "stream",
     "text": [
      "The first ordered argument value is 3.\n",
      "The second ordered argument value is 4.\n",
      "The third  ordered argument is optional. Default to 100. The current value is 2.\n",
      "The keyword argument p value: 10.\n",
      "The keyword argument q value: Hello!.\n"
     ]
    },
    {
     "data": {
      "text/plain": [
       "12"
      ]
     },
     "execution_count": 29,
     "metadata": {},
     "output_type": "execute_result"
    }
   ],
   "source": [
    "# This is very different to Python\n",
    "# The keyword argument is in front of ordered argument\n",
    "func2(p = 10, 3, 4, 2, q = \"Hello!\")"
   ]
  },
  {
   "cell_type": "markdown",
   "metadata": {},
   "source": [
    "# [Lesson 04_05 Functions with a variable number of arguments](https://www.youtube.com/watch?v=kF5e4dE9k-s&list=PLsu0TcgLDUiIznEhN165XmykqyLgzwY0Y&index=31)"
   ]
  },
  {
   "cell_type": "markdown",
   "metadata": {},
   "source": [
    "In this section we take a look at creating functions that can take a different number of arguments each time it is called."
   ]
  },
  {
   "cell_type": "markdown",
   "metadata": {},
   "source": [
    "we can use three dots to indicate none, one, or many arguments."
   ]
  },
  {
   "cell_type": "code",
   "execution_count": 30,
   "metadata": {},
   "outputs": [
    {
     "data": {
      "text/plain": [
       "func3 (generic function with 1 method)"
      ]
     },
     "execution_count": 30,
     "metadata": {},
     "output_type": "execute_result"
    }
   ],
   "source": [
    "function func3(args...)\n",
    "    print(\"I can tell you how many arguments you passed: $(length(args))\")\n",
    "end"
   ]
  },
  {
   "cell_type": "code",
   "execution_count": 31,
   "metadata": {},
   "outputs": [
    {
     "name": "stdout",
     "output_type": "stream",
     "text": [
      "I can tell you how many arguments you passed: 1"
     ]
    }
   ],
   "source": [
    "func3(1000000)"
   ]
  },
  {
   "cell_type": "code",
   "execution_count": 32,
   "metadata": {},
   "outputs": [
    {
     "name": "stdout",
     "output_type": "stream",
     "text": [
      "I can tell you how many arguments you passed: 1"
     ]
    }
   ],
   "source": [
    "func3(\"Julia\")"
   ]
  },
  {
   "cell_type": "code",
   "execution_count": 33,
   "metadata": {},
   "outputs": [
    {
     "name": "stdout",
     "output_type": "stream",
     "text": [
      "I can tell you how many arguments you passed: 2"
     ]
    }
   ],
   "source": [
    "func3(\"Julia\", \"Hello\")"
   ]
  },
  {
   "cell_type": "code",
   "execution_count": 34,
   "metadata": {},
   "outputs": [
    {
     "name": "stdout",
     "output_type": "stream",
     "text": [
      "I can tell you how many arguments you passed: 7"
     ]
    }
   ],
   "source": [
    "func3(\"Julia\", \"Hello\", 1, 2, 3, \"haha\", true)"
   ]
  },
  {
   "cell_type": "code",
   "execution_count": 39,
   "metadata": {},
   "outputs": [
    {
     "data": {
      "text/plain": [
       "food (generic function with 1 method)"
      ]
     },
     "execution_count": 39,
     "metadata": {},
     "output_type": "execute_result"
    }
   ],
   "source": [
    "function food(string_array)\n",
    "    string_items = join(string_array, \", \", \" and \")\n",
    "    print(\"I like $string_items\\!\")\n",
    "end"
   ]
  },
  {
   "cell_type": "code",
   "execution_count": 40,
   "metadata": {},
   "outputs": [
    {
     "name": "stdout",
     "output_type": "stream",
     "text": [
      "I like Nutella and honey!"
     ]
    }
   ],
   "source": [
    "food([\"Nutella\", \"honey\"])"
   ]
  },
  {
   "cell_type": "code",
   "execution_count": 41,
   "metadata": {},
   "outputs": [
    {
     "name": "stdout",
     "output_type": "stream",
     "text": [
      "I like N, u, t, e, l, l and a!"
     ]
    }
   ],
   "source": [
    "# however\n",
    "food(\"Nutella\")"
   ]
  },
  {
   "cell_type": "markdown",
   "metadata": {},
   "source": [
    "to solve the problem above"
   ]
  },
  {
   "cell_type": "code",
   "execution_count": 42,
   "metadata": {},
   "outputs": [
    {
     "data": {
      "text/plain": [
       "splat_food (generic function with 1 method)"
      ]
     },
     "execution_count": 42,
     "metadata": {},
     "output_type": "execute_result"
    }
   ],
   "source": [
    "function splat_food(strings...)\n",
    "    string_items = join(strings, \", \", \" and \")\n",
    "    print(\"I like $string_items\\!\")\n",
    "end"
   ]
  },
  {
   "cell_type": "code",
   "execution_count": 44,
   "metadata": {},
   "outputs": [
    {
     "name": "stdout",
     "output_type": "stream",
     "text": [
      "I like Nutella and honey!"
     ]
    }
   ],
   "source": [
    "splat_food(\"Nutella\", \"honey\")"
   ]
  },
  {
   "cell_type": "code",
   "execution_count": 45,
   "metadata": {},
   "outputs": [
    {
     "name": "stdout",
     "output_type": "stream",
     "text": [
      "I like Nutella!"
     ]
    }
   ],
   "source": [
    "splat_food(\"Nutella\")"
   ]
  },
  {
   "cell_type": "markdown",
   "metadata": {},
   "source": [
    "lets see how ... work."
   ]
  },
  {
   "cell_type": "code",
   "execution_count": 47,
   "metadata": {},
   "outputs": [
    {
     "data": {
      "text/plain": [
       "argues (generic function with 1 method)"
      ]
     },
     "execution_count": 47,
     "metadata": {},
     "output_type": "execute_result"
    }
   ],
   "source": [
    "function argues(a, b, s...)\n",
    "    print(\"The argument values are: $a, $b, and $s\")\n",
    "end"
   ]
  },
  {
   "cell_type": "code",
   "execution_count": 49,
   "metadata": {},
   "outputs": [
    {
     "name": "stdout",
     "output_type": "stream",
     "text": [
      "The argument values are: 3, 4, and ()"
     ]
    }
   ],
   "source": [
    "argues(3, 4)"
   ]
  },
  {
   "cell_type": "code",
   "execution_count": 50,
   "metadata": {},
   "outputs": [
    {
     "name": "stdout",
     "output_type": "stream",
     "text": [
      "The argument values are: 3, 4, and (5,)"
     ]
    }
   ],
   "source": [
    "argues(3, 4, 5)"
   ]
  },
  {
   "cell_type": "code",
   "execution_count": 51,
   "metadata": {},
   "outputs": [
    {
     "name": "stdout",
     "output_type": "stream",
     "text": [
      "The argument values are: 3, 4, and (5, \"julia\")"
     ]
    }
   ],
   "source": [
    "argues(3, 4, 5, \"julia\")"
   ]
  },
  {
   "cell_type": "markdown",
   "metadata": {},
   "source": [
    "now lets try to combine keywords and splats"
   ]
  },
  {
   "cell_type": "code",
   "execution_count": 52,
   "metadata": {},
   "outputs": [
    {
     "data": {
      "text/plain": [
       "fun_func (generic function with 1 method)"
      ]
     },
     "execution_count": 52,
     "metadata": {},
     "output_type": "execute_result"
    }
   ],
   "source": [
    "function fun_func(; a...)\n",
    "    a\n",
    "end"
   ]
  },
  {
   "cell_type": "code",
   "execution_count": 53,
   "metadata": {},
   "outputs": [
    {
     "data": {
      "text/plain": [
       "3-element Array{Any,1}:\n",
       " (:var1, \"Julia\")   \n",
       " (:var2, \"Language\")\n",
       " (:val1, 3)         "
      ]
     },
     "execution_count": 53,
     "metadata": {},
     "output_type": "execute_result"
    }
   ],
   "source": [
    "# calling the fun_func() function, remembering to give the keywords names\n",
    "fun_func(var1 = \"Julia\", var2 = \"Language\", val1 = 3)"
   ]
  },
  {
   "cell_type": "markdown",
   "metadata": {},
   "source": [
    "This is a (key, value) tuples, with the key coming from the name we gave the keyword argument. Moreover, it is actually a **symbol** which you will note by the colon (:) preceding it. (We will discuss symbols in other lectures)"
   ]
  },
  {
   "cell_type": "markdown",
   "metadata": {},
   "source": [
    "# [Lesson 04_06 Passing arrays as functions](https://www.youtube.com/watch?v=daEJ5kIscGs&index=32&list=PLsu0TcgLDUiIznEhN165XmykqyLgzwY0Y)"
   ]
  },
  {
   "cell_type": "markdown",
   "metadata": {},
   "source": [
    "We need not pass singles values or single strings as arguments.  In this section we take a look at ways of passing arrays as argument values.\n",
    "\n",
    "Note: pass by value or pass by reference?"
   ]
  },
  {
   "cell_type": "code",
   "execution_count": null,
   "metadata": {},
   "outputs": [],
   "source": []
  }
 ],
 "metadata": {
  "kernelspec": {
   "display_name": "Julia 0.6.2",
   "language": "julia",
   "name": "julia-0.6"
  },
  "language_info": {
   "file_extension": ".jl",
   "mimetype": "application/julia",
   "name": "julia",
   "version": "0.6.2"
  }
 },
 "nbformat": 4,
 "nbformat_minor": 2
}
