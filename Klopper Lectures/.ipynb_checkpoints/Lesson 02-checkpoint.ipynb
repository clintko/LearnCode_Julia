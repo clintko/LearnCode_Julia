{
 "cells": [
  {
   "cell_type": "markdown",
   "metadata": {},
   "source": [
    "# Lesson 02_01 Introducing the concept of types"
   ]
  },
  {
   "cell_type": "markdown",
   "metadata": {},
   "source": [
    "## Introduction to variable types\n",
    "- 3 is integer, 3/4 is a rational number\n",
    "- x = 3 (name of variable is x and it holds an integer value)\n",
    "- Julia has a dynamic type system\n",
    "    - you do not have explicitly declare a data type\n",
    "    - In C/C++, Java, you need to explicitly declare data type (ex: int x = 3)\n",
    "    - Julia also allows for declaring a type\n",
    "        - advantage of declaring a type: hold correct memory space and make execution faster"
   ]
  },
  {
   "cell_type": "markdown",
   "metadata": {},
   "source": [
    "# Lesson 02_02 Super and subtypes"
   ]
  },
  {
   "cell_type": "markdown",
   "metadata": {},
   "source": [
    "## Finding out the types of common values"
   ]
  },
  {
   "cell_type": "code",
   "execution_count": 1,
   "metadata": {},
   "outputs": [
    {
     "data": {
      "text/plain": [
       "Int64"
      ]
     },
     "execution_count": 1,
     "metadata": {},
     "output_type": "execute_result"
    }
   ],
   "source": [
    "# the type of the value 3\n",
    "typeof(3)"
   ]
  },
  {
   "cell_type": "code",
   "execution_count": 2,
   "metadata": {},
   "outputs": [
    {
     "data": {
      "text/plain": [
       "Float64"
      ]
     },
     "execution_count": 2,
     "metadata": {},
     "output_type": "execute_result"
    }
   ],
   "source": [
    "# the type of the value 3.0\n",
    "typeof(3.0)"
   ]
  },
  {
   "cell_type": "code",
   "execution_count": 3,
   "metadata": {},
   "outputs": [
    {
     "data": {
      "text/plain": [
       "Irrational{:π}"
      ]
     },
     "execution_count": 3,
     "metadata": {},
     "output_type": "execute_result"
    }
   ],
   "source": [
    "# tyep type of value pi\n",
    "typeof(pi)"
   ]
  },
  {
   "cell_type": "code",
   "execution_count": 4,
   "metadata": {},
   "outputs": [
    {
     "data": {
      "text/plain": [
       "Rational{Int64}"
      ]
     },
     "execution_count": 4,
     "metadata": {},
     "output_type": "execute_result"
    }
   ],
   "source": [
    "# The type of the value 3//4\n",
    "typeof(3 // 4)"
   ]
  },
  {
   "cell_type": "code",
   "execution_count": 5,
   "metadata": {},
   "outputs": [
    {
     "data": {
      "text/plain": [
       "String"
      ]
     },
     "execution_count": 5,
     "metadata": {},
     "output_type": "execute_result"
    }
   ],
   "source": [
    "# The type of the value \"Julia\"\n",
    "typeof(\"Julia\")"
   ]
  },
  {
   "cell_type": "markdown",
   "metadata": {},
   "source": [
    "## Supertypes\n",
    "- Supertypes indicates the parent of a type\n",
    "- note: [use supertype instead of super](https://github.com/JuliaLang/julia/issues/14337)"
   ]
  },
  {
   "cell_type": "code",
   "execution_count": 7,
   "metadata": {},
   "outputs": [
    {
     "data": {
      "text/plain": [
       "AbstractFloat"
      ]
     },
     "execution_count": 7,
     "metadata": {},
     "output_type": "execute_result"
    }
   ],
   "source": [
    "# what is the supertype (parent) of the Float64 type?\n",
    "supertype(Float64)"
   ]
  },
  {
   "cell_type": "code",
   "execution_count": 8,
   "metadata": {},
   "outputs": [
    {
     "data": {
      "text/plain": [
       "Real"
      ]
     },
     "execution_count": 8,
     "metadata": {},
     "output_type": "execute_result"
    }
   ],
   "source": [
    "# what is the supertype of the AbstractFloat type?\n",
    "supertype(AbstractFloat)"
   ]
  },
  {
   "cell_type": "code",
   "execution_count": 9,
   "metadata": {},
   "outputs": [
    {
     "data": {
      "text/plain": [
       "Number"
      ]
     },
     "execution_count": 9,
     "metadata": {},
     "output_type": "execute_result"
    }
   ],
   "source": [
    "# what is the supertype of the Real type?\n",
    "supertype(Real)"
   ]
  },
  {
   "cell_type": "code",
   "execution_count": 10,
   "metadata": {},
   "outputs": [
    {
     "data": {
      "text/plain": [
       "Any"
      ]
     },
     "execution_count": 10,
     "metadata": {},
     "output_type": "execute_result"
    }
   ],
   "source": [
    "# what is the supertype of the Number type?\n",
    "supertype(Number)"
   ]
  },
  {
   "cell_type": "code",
   "execution_count": 11,
   "metadata": {},
   "outputs": [
    {
     "data": {
      "text/plain": [
       "Any"
      ]
     },
     "execution_count": 11,
     "metadata": {},
     "output_type": "execute_result"
    }
   ],
   "source": [
    "# what is the supertype of the Any type?\n",
    "supertype(Any)"
   ]
  },
  {
   "cell_type": "markdown",
   "metadata": {},
   "source": [
    "Note: Any is the type in the root of the type hierarchy"
   ]
  },
  {
   "cell_type": "markdown",
   "metadata": {},
   "source": [
    "## Subtype"
   ]
  },
  {
   "cell_type": "code",
   "execution_count": 12,
   "metadata": {},
   "outputs": [
    {
     "data": {
      "text/plain": [
       "298-element Array{Union{DataType, UnionAll},1}:\n",
       " AbstractArray              \n",
       " AbstractChannel            \n",
       " AbstractRNG                \n",
       " AbstractSerializer         \n",
       " AbstractSet                \n",
       " AbstractString             \n",
       " Any                        \n",
       " Associative                \n",
       " Base.AbstractCartesianIndex\n",
       " Base.AbstractCmd           \n",
       " Base.AsyncCollector        \n",
       " Base.AsyncCollectorState   \n",
       " Base.AsyncCondition        \n",
       " ⋮                          \n",
       " TypeVar                    \n",
       " UniformScaling             \n",
       " Val                        \n",
       " Vararg                     \n",
       " VecElement                 \n",
       " VersionNumber              \n",
       " Void                       \n",
       " WeakRef                    \n",
       " WorkerConfig               \n",
       " ZMQ.Context                \n",
       " ZMQ.MsgPadding             \n",
       " ZMQ.Socket                 "
      ]
     },
     "execution_count": 12,
     "metadata": {},
     "output_type": "execute_result"
    }
   ],
   "source": [
    "# What are the childrent of the type Any?\n",
    "subtypes(Any)"
   ]
  },
  {
   "cell_type": "code",
   "execution_count": 13,
   "metadata": {},
   "outputs": [
    {
     "data": {
      "text/plain": [
       "2-element Array{Union{DataType, UnionAll},1}:\n",
       " Complex\n",
       " Real   "
      ]
     },
     "execution_count": 13,
     "metadata": {},
     "output_type": "execute_result"
    }
   ],
   "source": [
    "# What are the childrent of the type Number?\n",
    "subtypes(Number)"
   ]
  },
  {
   "cell_type": "code",
   "execution_count": 14,
   "metadata": {},
   "outputs": [
    {
     "data": {
      "text/plain": [
       "0-element Array{Union{DataType, UnionAll},1}"
      ]
     },
     "execution_count": 14,
     "metadata": {},
     "output_type": "execute_result"
    }
   ],
   "source": [
    "# What are the childrent of the type Complex?\n",
    "subtypes(Complex)"
   ]
  },
  {
   "cell_type": "code",
   "execution_count": 15,
   "metadata": {},
   "outputs": [
    {
     "data": {
      "text/plain": [
       "4-element Array{Union{DataType, UnionAll},1}:\n",
       " AbstractFloat\n",
       " Integer      \n",
       " Irrational   \n",
       " Rational     "
      ]
     },
     "execution_count": 15,
     "metadata": {},
     "output_type": "execute_result"
    }
   ],
   "source": [
    "# What are the childrent of the type Real?\n",
    "subtypes(Real)"
   ]
  },
  {
   "cell_type": "code",
   "execution_count": 16,
   "metadata": {},
   "outputs": [
    {
     "data": {
      "text/plain": [
       "4-element Array{Union{DataType, UnionAll},1}:\n",
       " BigFloat\n",
       " Float16 \n",
       " Float32 \n",
       " Float64 "
      ]
     },
     "execution_count": 16,
     "metadata": {},
     "output_type": "execute_result"
    }
   ],
   "source": [
    "# What are the childrent of the type Floating points?\n",
    "subtypes(AbstractFloat)"
   ]
  },
  {
   "cell_type": "code",
   "execution_count": 18,
   "metadata": {},
   "outputs": [
    {
     "data": {
      "text/plain": [
       "4-element Array{Union{DataType, UnionAll},1}:\n",
       " BigInt  \n",
       " Bool    \n",
       " Signed  \n",
       " Unsigned"
      ]
     },
     "execution_count": 18,
     "metadata": {},
     "output_type": "execute_result"
    }
   ],
   "source": [
    "# What are the childrent of the Integer type?\n",
    "subtypes(Integer)"
   ]
  },
  {
   "cell_type": "markdown",
   "metadata": {},
   "source": [
    "# [Lesson 02_03 Abstract and concrete types](https://www.youtube.com/watch?v=euqP7aRipE0&index=17&list=PLsu0TcgLDUiIznEhN165XmykqyLgzwY0Y)"
   ]
  },
  {
   "cell_type": "markdown",
   "metadata": {},
   "source": [
    "- in type hierarchy, the leaf: concrete types, other abstract type\n",
    "- Concrete types are the ones that can hold objects\n",
    "- They inherit from abstract types\n",
    "- Abstract type can not be instantiated\n",
    "    - That is fancy speak for the fact that you cannot create an instance of an abstract type. (i.e. x::Real)"
   ]
  },
  {
   "cell_type": "markdown",
   "metadata": {},
   "source": [
    "## Type size of types\n",
    "- A computer has a finite memory"
   ]
  },
  {
   "cell_type": "code",
   "execution_count": 20,
   "metadata": {},
   "outputs": [
    {
     "data": {
      "text/plain": [
       "-128"
      ]
     },
     "execution_count": 20,
     "metadata": {},
     "output_type": "execute_result"
    }
   ],
   "source": [
    "typemin(Int8)"
   ]
  },
  {
   "cell_type": "code",
   "execution_count": 22,
   "metadata": {},
   "outputs": [
    {
     "data": {
      "text/plain": [
       "127"
      ]
     },
     "execution_count": 22,
     "metadata": {},
     "output_type": "execute_result"
    }
   ],
   "source": [
    "typemax(Int8)"
   ]
  },
  {
   "cell_type": "code",
   "execution_count": 23,
   "metadata": {},
   "outputs": [
    {
     "data": {
      "text/plain": [
       "-32768"
      ]
     },
     "execution_count": 23,
     "metadata": {},
     "output_type": "execute_result"
    }
   ],
   "source": [
    "typemin(Int16)"
   ]
  },
  {
   "cell_type": "code",
   "execution_count": 24,
   "metadata": {},
   "outputs": [
    {
     "data": {
      "text/plain": [
       "32767"
      ]
     },
     "execution_count": 24,
     "metadata": {},
     "output_type": "execute_result"
    }
   ],
   "source": [
    "typemax(Int16)"
   ]
  },
  {
   "cell_type": "code",
   "execution_count": 26,
   "metadata": {},
   "outputs": [
    {
     "ename": "LoadError",
     "evalue": "\u001b[91mMethodError: no method matching typemin(::Type{Real})\u001b[0m\nClosest candidates are:\n  typemin(\u001b[91m::Type{Bool}\u001b[39m) at bool.jl:12\n  typemin(\u001b[91m::Type{Int8}\u001b[39m) at int.jl:458\n  typemin(\u001b[91m::Type{UInt8}\u001b[39m) at int.jl:460\n  ...\u001b[39m",
     "output_type": "error",
     "traceback": [
      "\u001b[91mMethodError: no method matching typemin(::Type{Real})\u001b[0m\nClosest candidates are:\n  typemin(\u001b[91m::Type{Bool}\u001b[39m) at bool.jl:12\n  typemin(\u001b[91m::Type{Int8}\u001b[39m) at int.jl:458\n  typemin(\u001b[91m::Type{UInt8}\u001b[39m) at int.jl:460\n  ...\u001b[39m",
      ""
     ]
    }
   ],
   "source": [
    "# since Abstract type cannot hold values\n",
    "# error occurs if applying typemin/typemax on Abstract type\n",
    "typemin(Real)"
   ]
  },
  {
   "cell_type": "markdown",
   "metadata": {},
   "source": [
    "# [Lesson 02_04 Creating your own types](https://www.youtube.com/watch?v=7yS90iBILQI&list=PLsu0TcgLDUiIznEhN165XmykqyLgzwY0Y&index=18)"
   ]
  },
  {
   "cell_type": "markdown",
   "metadata": {},
   "source": [
    "You can create your own type  \n",
    "\n",
    "Note:   \n",
    "**WARNING: deprecated syntax \"abstract AbstractTypeOne\"**  \n",
    "Use \"abstract **type** AbstractTypeOne **end**\" instead.\n",
    "\n",
    "Note:  \n",
    "For me, it feels like the structured array in NumPy"
   ]
  },
  {
   "cell_type": "code",
   "execution_count": 28,
   "metadata": {},
   "outputs": [
    {
     "ename": "LoadError",
     "evalue": "\u001b[91msyntax: incomplete: \"abstract type\" at In[28]:2 requires end\u001b[39m",
     "output_type": "error",
     "traceback": [
      "\u001b[91msyntax: incomplete: \"abstract type\" at In[28]:2 requires end\u001b[39m",
      ""
     ]
    }
   ],
   "source": [
    "# Creating an new abstract type called AbstractTypeOne using the abstract keyword\n",
    "abstract type AbstractTypeOne end"
   ]
  },
  {
   "cell_type": "code",
   "execution_count": 30,
   "metadata": {},
   "outputs": [
    {
     "data": {
      "text/plain": [
       "Any"
      ]
     },
     "execution_count": 30,
     "metadata": {},
     "output_type": "execute_result"
    }
   ],
   "source": [
    "# This new abstract type has an automatic supertype\n",
    "supertype(AbstractTypeOne)"
   ]
  },
  {
   "cell_type": "code",
   "execution_count": 31,
   "metadata": {},
   "outputs": [],
   "source": [
    "# Creating an abstract type under a specific supertypes using: \n",
    "# operator '<:'\n",
    "abstract type AbstractTypeTwo <: Number end"
   ]
  },
  {
   "cell_type": "code",
   "execution_count": 32,
   "metadata": {},
   "outputs": [
    {
     "data": {
      "text/plain": [
       "Number"
      ]
     },
     "execution_count": 32,
     "metadata": {},
     "output_type": "execute_result"
    }
   ],
   "source": [
    "# Checking using supertype(AbstractTypeTwo)\n",
    "supertype(AbstractTypeTwo)"
   ]
  },
  {
   "cell_type": "code",
   "execution_count": 33,
   "metadata": {},
   "outputs": [
    {
     "data": {
      "text/plain": [
       "0-element Array{Union{DataType, UnionAll},1}"
      ]
     },
     "execution_count": 33,
     "metadata": {},
     "output_type": "execute_result"
    }
   ],
   "source": [
    "subtypes(AbstractTypeTwo)"
   ]
  },
  {
   "cell_type": "code",
   "execution_count": 35,
   "metadata": {},
   "outputs": [],
   "source": [
    "# Creating a concrete type with two fields:\n",
    "# type ConcreateTypeOne <: AbstractTypeOne\n",
    "#     fieldone\n",
    "#     fieldtwo::Int\n",
    "type ConcreteTypeOne <: AbstractTypeOne\n",
    "    fieldone\n",
    "    fieldtwo::Int\n",
    "end"
   ]
  },
  {
   "cell_type": "code",
   "execution_count": 36,
   "metadata": {},
   "outputs": [
    {
     "data": {
      "text/plain": [
       "ConcreteTypeOne(\"Hi!\", 101)"
      ]
     },
     "execution_count": 36,
     "metadata": {},
     "output_type": "execute_result"
    }
   ],
   "source": [
    "# Since it is a concrete type it can be instantiated\n",
    "var1 = ConcreteTypeOne(\"Hi!\", 101)"
   ]
  },
  {
   "cell_type": "code",
   "execution_count": 37,
   "metadata": {},
   "outputs": [
    {
     "data": {
      "text/plain": [
       "\"Hi!\""
      ]
     },
     "execution_count": 37,
     "metadata": {},
     "output_type": "execute_result"
    }
   ],
   "source": [
    "# Accessing the fields of var1 with dot notation\n",
    "var1.fieldone"
   ]
  },
  {
   "cell_type": "code",
   "execution_count": 38,
   "metadata": {},
   "outputs": [
    {
     "data": {
      "text/plain": [
       "String"
      ]
     },
     "execution_count": 38,
     "metadata": {},
     "output_type": "execute_result"
    }
   ],
   "source": [
    "# Since the type of Fieldone was not specified we can check the type of var1.fieldone with typeof()\n",
    "typeof(var1.fieldone)"
   ]
  },
  {
   "cell_type": "markdown",
   "metadata": {},
   "source": [
    "There is a lot more to learn about type. When it comes to function and array, we can use type to speed up the execution time."
   ]
  },
  {
   "cell_type": "code",
   "execution_count": null,
   "metadata": {},
   "outputs": [],
   "source": []
  },
  {
   "cell_type": "code",
   "execution_count": null,
   "metadata": {},
   "outputs": [],
   "source": []
  }
 ],
 "metadata": {
  "kernelspec": {
   "display_name": "Julia 0.6.2",
   "language": "julia",
   "name": "julia-0.6"
  },
  "language_info": {
   "file_extension": ".jl",
   "mimetype": "application/julia",
   "name": "julia",
   "version": "0.6.2"
  }
 },
 "nbformat": 4,
 "nbformat_minor": 2
}
