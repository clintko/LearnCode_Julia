{
 "cells": [
  {
   "cell_type": "markdown",
   "metadata": {},
   "source": [
    "# [Lesson 03_01 Ternary operators](https://www.youtube.com/watch?v=vsSIK7NSHdY&list=PLsu0TcgLDUiIznEhN165XmykqyLgzwY0Y&index=19)"
   ]
  },
  {
   "cell_type": "markdown",
   "metadata": {},
   "source": [
    "## Introduction of \n",
    "control of the path of execution of code in a programs\n",
    "- Ternary operation\n",
    "- Boolean switches\n",
    "- if-elseif-else-end conditions\n",
    "- for-end loops (interation)\n",
    "- Compound expression\n",
    "- while-end loops\n",
    "\n",
    "## Ternary expressions\n",
    "- offers the quickest way to brach off in one direction\n",
    "- Look at this example with the ternary operation `?:`"
   ]
  },
  {
   "cell_type": "code",
   "execution_count": 1,
   "metadata": {},
   "outputs": [
    {
     "data": {
      "text/plain": [
       "10"
      ]
     },
     "execution_count": 1,
     "metadata": {},
     "output_type": "execute_result"
    }
   ],
   "source": [
    "# Creating a variable called a and placing an integer value in it\n",
    "a = 10"
   ]
  },
  {
   "cell_type": "code",
   "execution_count": 2,
   "metadata": {},
   "outputs": [
    {
     "data": {
      "text/plain": [
       "\"No it's not\""
      ]
     },
     "execution_count": 2,
     "metadata": {},
     "output_type": "execute_result"
    }
   ],
   "source": [
    "# A ternary expression with a binary choice\n",
    "a > 10 ? \"Yes, it is!\" : \"No it's not\""
   ]
  },
  {
   "cell_type": "code",
   "execution_count": 3,
   "metadata": {},
   "outputs": [
    {
     "data": {
      "text/plain": [
       "\"Yes, it is!\""
      ]
     },
     "execution_count": 3,
     "metadata": {},
     "output_type": "execute_result"
    }
   ],
   "source": [
    "a >= 10 ? \"Yes, it is!\" : \"No it's not\""
   ]
  },
  {
   "cell_type": "code",
   "execution_count": 6,
   "metadata": {},
   "outputs": [
    {
     "name": "stdout",
     "output_type": "stream",
     "text": [
      "It is less!\n",
      "No, it's not\n"
     ]
    }
   ],
   "source": [
    "r = 1; s = 2;\n",
    "println(r < s ? \"It is less!\" : \"No, it's not\")\n",
    "println(r > s ? \"It is less!\" : \"No, it's not\")"
   ]
  },
  {
   "cell_type": "markdown",
   "metadata": {},
   "source": [
    "# [Lesson 03_02 Boolean switching](https://www.youtube.com/watch?v=g-NZ60y4AHY&index=20&list=PLsu0TcgLDUiIznEhN165XmykqyLgzwY0Y)"
   ]
  },
  {
   "cell_type": "markdown",
   "metadata": {},
   "source": [
    "Boolean Operator AND && and OR ||"
   ]
  },
  {
   "cell_type": "code",
   "execution_count": 8,
   "metadata": {},
   "outputs": [
    {
     "name": "stderr",
     "output_type": "stream",
     "text": [
      "\u001b[1m\u001b[36mINFO: \u001b[39m\u001b[22m\u001b[36mCloning cache of Primes from https://github.com/JuliaMath/Primes.jl.git\n",
      "\u001b[39m\u001b[1m\u001b[36mINFO: \u001b[39m\u001b[22m\u001b[36mInstalling Primes v0.3.0\n",
      "\u001b[39m\u001b[1m\u001b[36mINFO: \u001b[39m\u001b[22m\u001b[36mPackage database updated\n",
      "\u001b[39m\u001b[1m\u001b[36mINFO: \u001b[39m\u001b[22m\u001b[36mMETADATA is out-of-date — you may not have the latest version of Primes\n",
      "\u001b[39m\u001b[1m\u001b[36mINFO: \u001b[39m\u001b[22m\u001b[36mUse `Pkg.update()` to get the latest versions of your packages\n",
      "\u001b[39m"
     ]
    }
   ],
   "source": [
    "Pkg.add(\"Primes\")"
   ]
  },
  {
   "cell_type": "code",
   "execution_count": 9,
   "metadata": {},
   "outputs": [
    {
     "name": "stderr",
     "output_type": "stream",
     "text": [
      "\u001b[1m\u001b[36mINFO: \u001b[39m\u001b[22m\u001b[36mPrecompiling module Primes.\n",
      "\u001b[39m"
     ]
    }
   ],
   "source": [
    "using Primes"
   ]
  },
  {
   "cell_type": "code",
   "execution_count": 11,
   "metadata": {},
   "outputs": [
    {
     "name": "stdout",
     "output_type": "stream",
     "text": [
      "true\n",
      "false\n"
     ]
    }
   ],
   "source": [
    "a = 7\n",
    "println(isprime(a))\n",
    "\n",
    "b = 9\n",
    "println(isprime(b))"
   ]
  },
  {
   "cell_type": "code",
   "execution_count": 19,
   "metadata": {},
   "outputs": [
    {
     "data": {
      "text/plain": [
       "true"
      ]
     },
     "execution_count": 19,
     "metadata": {},
     "output_type": "execute_result"
    }
   ],
   "source": [
    "isprime(a) && (a == 7)"
   ]
  },
  {
   "cell_type": "code",
   "execution_count": 22,
   "metadata": {},
   "outputs": [
    {
     "data": {
      "text/plain": [
       "true"
      ]
     },
     "execution_count": 22,
     "metadata": {},
     "output_type": "execute_result"
    }
   ],
   "source": [
    "isprime(a) || (a != 7)"
   ]
  },
  {
   "cell_type": "code",
   "execution_count": 15,
   "metadata": {},
   "outputs": [
    {
     "data": {
      "text/plain": [
       "false"
      ]
     },
     "execution_count": 15,
     "metadata": {},
     "output_type": "execute_result"
    }
   ],
   "source": [
    "isprime(b) && (b == 9)"
   ]
  },
  {
   "cell_type": "code",
   "execution_count": 21,
   "metadata": {},
   "outputs": [
    {
     "data": {
      "text/plain": [
       "true"
      ]
     },
     "execution_count": 21,
     "metadata": {},
     "output_type": "execute_result"
    }
   ],
   "source": [
    "isprime(b) || (b == 9)"
   ]
  },
  {
   "cell_type": "markdown",
   "metadata": {},
   "source": [
    "# [Lesson 03_03 For loops](https://www.youtube.com/watch?v=k8JC1lOc8_s&list=PLsu0TcgLDUiIznEhN165XmykqyLgzwY0Y&index=21)"
   ]
  },
  {
   "cell_type": "markdown",
   "metadata": {},
   "source": [
    "For me, the for loop in Julia is very similar to loop in Python. The obvious difference is in Julia, the loop does not require colon ':' but require \"end\" in the end of for loop statement"
   ]
  },
  {
   "cell_type": "code",
   "execution_count": 23,
   "metadata": {},
   "outputs": [
    {
     "name": "stdout",
     "output_type": "stream",
     "text": [
      "1\n",
      "2\n",
      "3\n",
      "4\n",
      "5\n"
     ]
    }
   ],
   "source": [
    "for i in 1:5 # 1:5 is a range object\n",
    "    println(i)\n",
    "end"
   ]
  },
  {
   "cell_type": "code",
   "execution_count": 25,
   "metadata": {},
   "outputs": [
    {
     "name": "stdout",
     "output_type": "stream",
     "text": [
      "These\tare\twords\t"
     ]
    }
   ],
   "source": [
    "for word in [\"These\", \"are\", \"words\"] # [...] -> array\n",
    "    print(word, \"\\t\")\n",
    "end"
   ]
  },
  {
   "cell_type": "code",
   "execution_count": 29,
   "metadata": {},
   "outputs": [
    {
     "name": "stdout",
     "output_type": "stream",
     "text": [
      "J\tu\tl\ti\ta\t"
     ]
    }
   ],
   "source": [
    "for letter in \"Julia\"\n",
    "    print(letter, \"\\t\")\n",
    "end"
   ]
  },
  {
   "cell_type": "markdown",
   "metadata": {},
   "source": [
    "**the variable is only exist in the scope of the loop**"
   ]
  },
  {
   "cell_type": "code",
   "execution_count": 30,
   "metadata": {},
   "outputs": [
    {
     "name": "stdout",
     "output_type": "stream",
     "text": [
      "10\tInt64\n",
      "20\tInt64\n",
      "thiry\tString\n",
      "40.0\tFloat64\n"
     ]
    }
   ],
   "source": [
    "for stuff in (10, 20, \"thiry\", sqrt(1600))\n",
    "    println(stuff, \"\\t\", typeof(stuff))\n",
    "end"
   ]
  },
  {
   "cell_type": "code",
   "execution_count": 31,
   "metadata": {},
   "outputs": [
    {
     "name": "stdout",
     "output_type": "stream",
     "text": [
      "UndefVarError\n",
      "UndefVarError: stuff not defined"
     ]
    }
   ],
   "source": [
    "# the stuff is only exist in the scope of the loop\n",
    "try\n",
    "    stuff\n",
    "catch ex\n",
    "    println(typeof(ex))\n",
    "    showerror(STDOUT, ex)\n",
    "end"
   ]
  },
  {
   "cell_type": "markdown",
   "metadata": {},
   "source": [
    "**however, if the variable is declared outside the loop, it is used and updated in the loop**"
   ]
  },
  {
   "cell_type": "code",
   "execution_count": 32,
   "metadata": {},
   "outputs": [
    {
     "data": {
      "text/plain": [
       "1"
      ]
     },
     "execution_count": 32,
     "metadata": {},
     "output_type": "execute_result"
    }
   ],
   "source": [
    "stuff = 1"
   ]
  },
  {
   "cell_type": "code",
   "execution_count": 33,
   "metadata": {},
   "outputs": [
    {
     "name": "stdout",
     "output_type": "stream",
     "text": [
      "10\tInt64\n",
      "20\tInt64\n",
      "thiry\tString\n",
      "40.0\tFloat64\n"
     ]
    }
   ],
   "source": [
    "for stuff in (10, 20, \"thiry\", sqrt(1600))\n",
    "    println(stuff, \"\\t\", typeof(stuff))\n",
    "end"
   ]
  },
  {
   "cell_type": "code",
   "execution_count": 34,
   "metadata": {},
   "outputs": [
    {
     "name": "stdout",
     "output_type": "stream",
     "text": [
      "40.0"
     ]
    }
   ],
   "source": [
    "print(stuff)"
   ]
  },
  {
   "cell_type": "markdown",
   "metadata": {},
   "source": [
    "# [Lesson 03_04 If statements](https://www.youtube.com/watch?v=UqOvIFsHPJQ&list=PLsu0TcgLDUiIznEhN165XmykqyLgzwY0Y&index=22)"
   ]
  },
  {
   "cell_type": "code",
   "execution_count": 40,
   "metadata": {},
   "outputs": [
    {
     "name": "stdout",
     "output_type": "stream",
     "text": [
      "it is less than 10.\n"
     ]
    }
   ],
   "source": [
    "value = 9\n",
    "\n",
    "if value < 10\n",
    "    println(\"it is less than 10.\")\n",
    "elseif value > 10\n",
    "    println(\"it is larger than 10.\")\n",
    "else\n",
    "    println(\"it is equal to 10.\")\n",
    "end"
   ]
  },
  {
   "cell_type": "code",
   "execution_count": 41,
   "metadata": {},
   "outputs": [
    {
     "name": "stdout",
     "output_type": "stream",
     "text": [
      "it is equal to 10.\n"
     ]
    }
   ],
   "source": [
    "value = 10\n",
    "\n",
    "if value < 10\n",
    "    println(\"it is less than 10.\")\n",
    "elseif value > 10\n",
    "    println(\"it is larger than 10.\")\n",
    "else\n",
    "    println(\"it is equal to 10.\")\n",
    "end"
   ]
  },
  {
   "cell_type": "code",
   "execution_count": 42,
   "metadata": {},
   "outputs": [
    {
     "name": "stdout",
     "output_type": "stream",
     "text": [
      "it is larger than 10.\n"
     ]
    }
   ],
   "source": [
    "value = 11\n",
    "\n",
    "if value < 10\n",
    "    println(\"it is less than 10.\")\n",
    "elseif value > 10\n",
    "    println(\"it is larger than 10.\")\n",
    "else\n",
    "    println(\"it is equal to 10.\")\n",
    "end"
   ]
  },
  {
   "cell_type": "markdown",
   "metadata": {},
   "source": [
    "# [Lesson 03_05 Combining for loops and if statements using continue](https://www.youtube.com/watch?v=Meiv5Zl7L74&list=PLsu0TcgLDUiIznEhN165XmykqyLgzwY0Y&index=23)"
   ]
  },
  {
   "cell_type": "code",
   "execution_count": 1,
   "metadata": {},
   "outputs": [
    {
     "name": "stdout",
     "output_type": "stream",
     "text": [
      "1\n",
      "2\n",
      "4\n",
      "5\n",
      "7\n",
      "8\n",
      "10\n"
     ]
    }
   ],
   "source": [
    "# we can skip some of the iterations in a loop\n",
    "for i in 1:10\n",
    "    # skip the line if i is a multiple of 3\n",
    "    if i % 3 == 0\n",
    "        continue \n",
    "    end\n",
    "    \n",
    "    println(i)\n",
    "end"
   ]
  },
  {
   "cell_type": "markdown",
   "metadata": {},
   "source": [
    "# [Lesson 03_06 Comprehensions](https://www.youtube.com/watch?v=W0bCHHGo-SQ&index=24&list=PLsu0TcgLDUiIznEhN165XmykqyLgzwY0Y)"
   ]
  },
  {
   "cell_type": "markdown",
   "metadata": {},
   "source": [
    "- **Comprehensions are a way of generating an collection items**"
   ]
  },
  {
   "cell_type": "code",
   "execution_count": 4,
   "metadata": {},
   "outputs": [
    {
     "data": {
      "text/plain": [
       "5-element Array{Int64,1}:\n",
       " 1\n",
       " 2\n",
       " 3\n",
       " 4\n",
       " 5"
      ]
     },
     "execution_count": 4,
     "metadata": {},
     "output_type": "execute_result"
    }
   ],
   "source": [
    "A = [n for n in 1:5]"
   ]
  },
  {
   "cell_type": "code",
   "execution_count": 7,
   "metadata": {},
   "outputs": [
    {
     "data": {
      "text/plain": [
       "7-element Array{Int64,1}:\n",
       " -27\n",
       "  -8\n",
       "  -1\n",
       "   0\n",
       "   1\n",
       "   8\n",
       "  27"
      ]
     },
     "execution_count": 7,
     "metadata": {},
     "output_type": "execute_result"
    }
   ],
   "source": [
    "# list comprehension\n",
    "[i^3 for i in -3:3]"
   ]
  },
  {
   "cell_type": "code",
   "execution_count": 8,
   "metadata": {},
   "outputs": [
    {
     "data": {
      "text/plain": [
       "Array{Int64,1}"
      ]
     },
     "execution_count": 8,
     "metadata": {},
     "output_type": "execute_result"
    }
   ],
   "source": [
    "# Creating an array of integers\n",
    "typeof([i^3 for i in -3:3])"
   ]
  },
  {
   "cell_type": "code",
   "execution_count": 9,
   "metadata": {},
   "outputs": [
    {
     "ename": "LoadError",
     "evalue": "\u001b[91msyntax: {a for a in b} syntax is discontinued\u001b[39m",
     "output_type": "error",
     "traceback": [
      "\u001b[91msyntax: {a for a in b} syntax is discontinued\u001b[39m",
      ""
     ]
    }
   ],
   "source": [
    "typeof({i^3 for i in -3:3})"
   ]
  },
  {
   "cell_type": "markdown",
   "metadata": {},
   "source": [
    "Note: [{ } vector syntax is discontinued?](http://julia-programming-language.2336112.n4.nabble.com/vector-syntax-is-discontinued-td45822.html)\n",
    "\n",
    "It used to mean `Any[]`, but not anymore (so `Any[]` is the new syntax)."
   ]
  },
  {
   "cell_type": "code",
   "execution_count": 11,
   "metadata": {},
   "outputs": [
    {
     "data": {
      "text/plain": [
       "Array{Any,1}"
      ]
     },
     "execution_count": 11,
     "metadata": {},
     "output_type": "execute_result"
    }
   ],
   "source": [
    "typeof(Any[i^3 for i in -3:3])"
   ]
  },
  {
   "cell_type": "code",
   "execution_count": 18,
   "metadata": {},
   "outputs": [
    {
     "data": {
      "text/plain": [
       "3×3 Array{Tuple{Int64,Int64},2}:\n",
       " (1, 1)  (1, 2)  (1, 3)\n",
       " (2, 1)  (2, 2)  (2, 3)\n",
       " (3, 1)  (3, 2)  (3, 3)"
      ]
     },
     "execution_count": 18,
     "metadata": {},
     "output_type": "execute_result"
    }
   ],
   "source": [
    "# combining iterations in list comprehension\n",
    "M1 = [(row, col) for row in 1:3, col in 1:3]"
   ]
  },
  {
   "cell_type": "code",
   "execution_count": 19,
   "metadata": {},
   "outputs": [
    {
     "data": {
      "text/plain": [
       "9-element Array{Tuple{Int64,Int64},1}:\n",
       " (1, 1)\n",
       " (1, 2)\n",
       " (1, 3)\n",
       " (2, 1)\n",
       " (2, 2)\n",
       " (2, 3)\n",
       " (3, 1)\n",
       " (3, 2)\n",
       " (3, 3)"
      ]
     },
     "execution_count": 19,
     "metadata": {},
     "output_type": "execute_result"
    }
   ],
   "source": [
    "# interestingly, the above is different from this one\n",
    "# combining iterations in list comprehension\n",
    "M2 = [(row, col) for row in 1:3 for col in 1:3]"
   ]
  },
  {
   "cell_type": "code",
   "execution_count": 23,
   "metadata": {},
   "outputs": [
    {
     "data": {
      "text/plain": [
       "3×3 Array{Tuple{Int64,Tuple{Int64,Int64}},2}:\n",
       " (1, (1, 1))  (4, (1, 2))  (7, (1, 3))\n",
       " (2, (2, 1))  (5, (2, 2))  (8, (2, 3))\n",
       " (3, (3, 1))  (6, (3, 2))  (9, (3, 3))"
      ]
     },
     "execution_count": 23,
     "metadata": {},
     "output_type": "execute_result"
    }
   ],
   "source": [
    "# using the enurate() function for creating \n",
    "# an iterable object that produce an index number and \n",
    "# its value (at each index)\n",
    "[i for i in enumerate(M1)]"
   ]
  },
  {
   "cell_type": "code",
   "execution_count": 24,
   "metadata": {},
   "outputs": [
    {
     "data": {
      "text/plain": [
       "9-element Array{Tuple{Int64,Tuple{Int64,Int64}},1}:\n",
       " (1, (1, 1))\n",
       " (2, (1, 2))\n",
       " (3, (1, 3))\n",
       " (4, (2, 1))\n",
       " (5, (2, 2))\n",
       " (6, (2, 3))\n",
       " (7, (3, 1))\n",
       " (8, (3, 2))\n",
       " (9, (3, 3))"
      ]
     },
     "execution_count": 24,
     "metadata": {},
     "output_type": "execute_result"
    }
   ],
   "source": [
    "[i for i in enumerate(M2)]"
   ]
  },
  {
   "cell_type": "markdown",
   "metadata": {},
   "source": [
    "check if the python way of enumerate could be used in Julia"
   ]
  },
  {
   "cell_type": "code",
   "execution_count": 30,
   "metadata": {},
   "outputs": [
    {
     "data": {
      "text/plain": [
       "5-element Array{Int64,1}:\n",
       "  1\n",
       "  4\n",
       "  9\n",
       " 16\n",
       " 25"
      ]
     },
     "execution_count": 30,
     "metadata": {},
     "output_type": "execute_result"
    }
   ],
   "source": [
    "x = [i^2 for i in 1:5]"
   ]
  },
  {
   "cell_type": "code",
   "execution_count": 32,
   "metadata": {},
   "outputs": [
    {
     "data": {
      "text/plain": [
       "5-element Array{Tuple{Int64,Int64},1}:\n",
       " (1, 1) \n",
       " (2, 4) \n",
       " (3, 9) \n",
       " (4, 16)\n",
       " (5, 25)"
      ]
     },
     "execution_count": 32,
     "metadata": {},
     "output_type": "execute_result"
    }
   ],
   "source": [
    "[item for item in enumerate(x)]"
   ]
  },
  {
   "cell_type": "code",
   "execution_count": 38,
   "metadata": {},
   "outputs": [
    {
     "data": {
      "text/plain": [
       "5-element Array{Tuple{Int64,Int64},1}:\n",
       " (1, 1) \n",
       " (2, 4) \n",
       " (3, 9) \n",
       " (4, 16)\n",
       " (5, 25)"
      ]
     },
     "execution_count": 38,
     "metadata": {},
     "output_type": "execute_result"
    }
   ],
   "source": [
    "[(idx, val) for (idx, val) in enumerate(x)]"
   ]
  },
  {
   "cell_type": "code",
   "execution_count": 39,
   "metadata": {},
   "outputs": [
    {
     "data": {
      "text/plain": [
       "5-element Array{Tuple{Int64,Int64},1}:\n",
       " (1, 1)  \n",
       " (2, 16) \n",
       " (3, 81) \n",
       " (4, 256)\n",
       " (5, 625)"
      ]
     },
     "execution_count": 39,
     "metadata": {},
     "output_type": "execute_result"
    }
   ],
   "source": [
    "[(idx, val^2) for (idx, val) in enumerate(x)]"
   ]
  },
  {
   "cell_type": "markdown",
   "metadata": {},
   "source": [
    "random number"
   ]
  },
  {
   "cell_type": "code",
   "execution_count": 33,
   "metadata": {},
   "outputs": [
    {
     "data": {
      "text/plain": [
       "3×3 Array{Int64,2}:\n",
       " 3  1  3\n",
       " 8  5  6\n",
       " 8  5  4"
      ]
     },
     "execution_count": 33,
     "metadata": {},
     "output_type": "execute_result"
    }
   ],
   "source": [
    "M = rand(0:9, 3, 3)"
   ]
  },
  {
   "cell_type": "code",
   "execution_count": 35,
   "metadata": {},
   "outputs": [
    {
     "data": {
      "text/plain": [
       "3×3 Array{Tuple{Int64,Int64},2}:\n",
       " (1, 3)  (4, 1)  (7, 3)\n",
       " (2, 8)  (5, 5)  (8, 6)\n",
       " (3, 8)  (6, 5)  (9, 4)"
      ]
     },
     "execution_count": 35,
     "metadata": {},
     "output_type": "execute_result"
    }
   ],
   "source": [
    "[i for i in enumerate(M)] # enumerate default goes by column to column"
   ]
  },
  {
   "cell_type": "markdown",
   "metadata": {},
   "source": [
    "**Breaking out of a for loop**"
   ]
  },
  {
   "cell_type": "code",
   "execution_count": 40,
   "metadata": {},
   "outputs": [
    {
     "name": "stdout",
     "output_type": "stream",
     "text": [
      "[3, 1, 2, 5, 3, 3, 3, 3, 3, 4, 5, 4, 5, 3, 4, 3, 2, 3, 5, 1]\n"
     ]
    }
   ],
   "source": [
    "# Creating 20 random values, each from 1 to 5\n",
    "a = rand(1:5, 20) \n",
    "println(a) "
   ]
  },
  {
   "cell_type": "code",
   "execution_count": 44,
   "metadata": {},
   "outputs": [
    {
     "name": "stdout",
     "output_type": "stream",
     "text": [
      "The index of the first occurrence of the searched value 4 is 10\n"
     ]
    }
   ],
   "source": [
    "lookforfirst = 4\n",
    "for (ix, curr) in enumerate(a)\n",
    "    if curr == lookforfirst\n",
    "        println(\"The index of the first occurrence of the searched value $lookforfirst is $ix\")\n",
    "        break\n",
    "    end\n",
    "end"
   ]
  },
  {
   "cell_type": "markdown",
   "metadata": {},
   "source": [
    "**Zip**"
   ]
  },
  {
   "cell_type": "code",
   "execution_count": 45,
   "metadata": {},
   "outputs": [
    {
     "name": "stdout",
     "output_type": "stream",
     "text": [
      "(1, 101, 501)\n",
      "(2, 102, 502)\n",
      "(3, 103, 503)\n",
      "(4, 104, 504)\n",
      "(5, 105, 505)\n",
      "(6, 106, 506)\n",
      "(7, 107, 507)\n",
      "(8, 108, 508)\n",
      "(9, 109, 509)\n",
      "(10, 110, 510)\n"
     ]
    }
   ],
   "source": [
    "# working throughtwo or more arrays at the same time\n",
    "for i in zip(1:10, 101:110, 501:510)\n",
    "    println(i)\n",
    "end"
   ]
  },
  {
   "cell_type": "code",
   "execution_count": 46,
   "metadata": {},
   "outputs": [
    {
     "name": "stdout",
     "output_type": "stream",
     "text": [
      "(1, 11, 21)\n",
      "(2, 12, 22)\n",
      "(3, 13, 23)\n",
      "(4, 14, 24)\n"
     ]
    }
   ],
   "source": [
    "# look at what happens if each one in turn is \n",
    "# of different length than the other two\n",
    "for i in zip(1:4, 11:15, 21:25)\n",
    "    println(i)\n",
    "end"
   ]
  },
  {
   "cell_type": "markdown",
   "metadata": {},
   "source": [
    "the first array is shorter. the results are the shorter version of the answer"
   ]
  },
  {
   "cell_type": "markdown",
   "metadata": {},
   "source": [
    "# Lesson 03_07 Collections"
   ]
  },
  {
   "cell_type": "code",
   "execution_count": 1,
   "metadata": {},
   "outputs": [
    {
     "data": {
      "text/plain": [
       "1:5"
      ]
     },
     "execution_count": 1,
     "metadata": {},
     "output_type": "execute_result"
    }
   ],
   "source": [
    "# Creating a range object, which is useful for iterations, ie for loop\n",
    "# In future lessons, we will see that [1:5] is an array\n",
    "1:5"
   ]
  },
  {
   "cell_type": "code",
   "execution_count": 2,
   "metadata": {},
   "outputs": [
    {
     "data": {
      "text/plain": [
       "UnitRange{Int64}"
      ]
     },
     "execution_count": 2,
     "metadata": {},
     "output_type": "execute_result"
    }
   ],
   "source": [
    "typeof(1:5)"
   ]
  },
  {
   "cell_type": "code",
   "execution_count": 3,
   "metadata": {},
   "outputs": [
    {
     "data": {
      "text/plain": [
       "5-element Array{Int64,1}:\n",
       " 1\n",
       " 2\n",
       " 3\n",
       " 4\n",
       " 5"
      ]
     },
     "execution_count": 3,
     "metadata": {},
     "output_type": "execute_result"
    }
   ],
   "source": [
    "[i for i in 1:5]"
   ]
  },
  {
   "cell_type": "code",
   "execution_count": 4,
   "metadata": {},
   "outputs": [
    {
     "data": {
      "text/plain": [
       "5-element Array{Int64,1}:\n",
       " 1\n",
       " 2\n",
       " 3\n",
       " 4\n",
       " 5"
      ]
     },
     "execution_count": 4,
     "metadata": {},
     "output_type": "execute_result"
    }
   ],
   "source": [
    "# this is the same as above\n",
    "collect(1:5)"
   ]
  },
  {
   "cell_type": "code",
   "execution_count": 13,
   "metadata": {},
   "outputs": [
    {
     "data": {
      "text/plain": [
       "Combinatorics.Permutations{Array{Int64,1}}([1, 2, 3], 3)"
      ]
     },
     "execution_count": 13,
     "metadata": {},
     "output_type": "execute_result"
    }
   ],
   "source": [
    "# another example: Permutation\n",
    "#Pkg.add(\"Combinatorics\")\n",
    "using Combinatorics\n",
    "permutations([1, 2, 3])"
   ]
  },
  {
   "cell_type": "code",
   "execution_count": 14,
   "metadata": {},
   "outputs": [
    {
     "data": {
      "text/plain": [
       "6-element Array{Array{Int64,1},1}:\n",
       " [1, 2, 3]\n",
       " [1, 3, 2]\n",
       " [2, 1, 3]\n",
       " [2, 3, 1]\n",
       " [3, 1, 2]\n",
       " [3, 2, 1]"
      ]
     },
     "execution_count": 14,
     "metadata": {},
     "output_type": "execute_result"
    }
   ],
   "source": [
    "collect(permutations([1, 2, 3]))"
   ]
  },
  {
   "cell_type": "code",
   "execution_count": null,
   "metadata": {},
   "outputs": [],
   "source": []
  },
  {
   "cell_type": "code",
   "execution_count": null,
   "metadata": {},
   "outputs": [],
   "source": []
  },
  {
   "cell_type": "code",
   "execution_count": null,
   "metadata": {},
   "outputs": [],
   "source": []
  },
  {
   "cell_type": "code",
   "execution_count": null,
   "metadata": {},
   "outputs": [],
   "source": []
  }
 ],
 "metadata": {
  "kernelspec": {
   "display_name": "Julia 0.6.2",
   "language": "julia",
   "name": "julia-0.6"
  },
  "language_info": {
   "file_extension": ".jl",
   "mimetype": "application/julia",
   "name": "julia",
   "version": "0.6.2"
  }
 },
 "nbformat": 4,
 "nbformat_minor": 2
}
